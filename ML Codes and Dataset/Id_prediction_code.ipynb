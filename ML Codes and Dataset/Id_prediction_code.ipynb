{
  "nbformat": 4,
  "nbformat_minor": 0,
  "metadata": {
    "colab": {
      "name": "Id_prediction_code.ipynb",
      "provenance": [],
      "collapsed_sections": []
    },
    "kernelspec": {
      "name": "python3",
      "display_name": "Python 3"
    },
    "language_info": {
      "name": "python"
    }
  },
  "cells": [
    {
      "cell_type": "markdown",
      "source": [
        "### Neural Network "
      ],
      "metadata": {
        "id": "9R6bvLeKRUvd"
      }
    },
    {
      "cell_type": "code",
      "execution_count": null,
      "metadata": {
        "id": "F7c81Rsh2vxL"
      },
      "outputs": [],
      "source": [
        "#Importing Libraries for data preparation\n",
        "import pandas as pd\n",
        "import numpy as np\n",
        "#Read Necessary files\n",
        "dataset = pd.read_csv(\"datasetall.csv\")"
      ]
    },
    {
      "cell_type": "code",
      "source": [
        "dataset = np.asmatrix(dataset)\n",
        "\n",
        "Y_data = dataset[:,4]\n",
        "X_data = dataset[:,:-1]\n",
        "\n"
      ],
      "metadata": {
        "id": "fP35RxTB5CWR"
      },
      "execution_count": null,
      "outputs": []
    },
    {
      "cell_type": "code",
      "source": [
        "X_data_norma1 = dataset[:,3]\n",
        "X_data_norma1 = X_data_norma1/X_data_norma1.max()\n",
        "X_data[:,3] = X_data_norma1\n",
        "Y_max = Y_data.max()\n",
        "Y_data = Y_data/Y_data.max()"
      ],
      "metadata": {
        "id": "N_cgSHGl5Esz"
      },
      "execution_count": null,
      "outputs": []
    },
    {
      "cell_type": "code",
      "source": [
        "X_data = pd.DataFrame(X_data)\n",
        "Y_data = pd.DataFrame(Y_data)"
      ],
      "metadata": {
        "id": "92wSYgwf78QF"
      },
      "execution_count": null,
      "outputs": []
    },
    {
      "cell_type": "markdown",
      "source": [
        "Split in training and testing data"
      ],
      "metadata": {
        "id": "RyvdeBO1AvCo"
      }
    },
    {
      "cell_type": "code",
      "source": [
        "from sklearn.model_selection import train_test_split\n",
        "X_train, X_test, Y_train, Y_test = train_test_split(X_data, Y_data, test_size=0.10, random_state=42)"
      ],
      "metadata": {
        "id": "0jINk3-4AXlE"
      },
      "execution_count": null,
      "outputs": []
    },
    {
      "cell_type": "code",
      "source": [
        "print(X_train.shape, Y_train.shape, X_test.shape, Y_test.shape)"
      ],
      "metadata": {
        "colab": {
          "base_uri": "https://localhost:8080/"
        },
        "id": "uj8dWpFVA9uU",
        "outputId": "0c786f16-485a-4dd6-b8fd-afe602691e84"
      },
      "execution_count": null,
      "outputs": [
        {
          "output_type": "stream",
          "name": "stdout",
          "text": [
            "(243224, 4) (243224, 1) (27025, 4) (27025, 1)\n"
          ]
        }
      ]
    },
    {
      "cell_type": "markdown",
      "source": [
        "ANN model"
      ],
      "metadata": {
        "id": "5CZCXMIOCOt-"
      }
    },
    {
      "cell_type": "code",
      "source": [
        "import tensorflow as tf\n",
        "from tensorflow import keras\n",
        "from tensorflow.keras import layers"
      ],
      "metadata": {
        "id": "XJKf3DA2C8Op"
      },
      "execution_count": null,
      "outputs": []
    },
    {
      "cell_type": "code",
      "source": [
        "# Define model\n",
        "model = keras.Sequential()\n",
        "model.add(layers.Dense(8, input_dim=4, activation= \"relu\"))\n",
        "model.add(layers.Dense(8, activation= \"relu\"))\n",
        "model.add(layers.Dense(1))\n",
        "model.summary() #Print model Summary"
      ],
      "metadata": {
        "colab": {
          "base_uri": "https://localhost:8080/"
        },
        "id": "VdSdUfu0COGW",
        "outputId": "a4919ab9-7e97-4553-dae6-7ce04a92a24c"
      },
      "execution_count": null,
      "outputs": [
        {
          "output_type": "stream",
          "name": "stdout",
          "text": [
            "Model: \"sequential_15\"\n",
            "_________________________________________________________________\n",
            " Layer (type)                Output Shape              Param #   \n",
            "=================================================================\n",
            " dense_48 (Dense)            (None, 8)                 40        \n",
            "                                                                 \n",
            " dense_49 (Dense)            (None, 8)                 72        \n",
            "                                                                 \n",
            " dense_50 (Dense)            (None, 1)                 9         \n",
            "                                                                 \n",
            "=================================================================\n",
            "Total params: 121\n",
            "Trainable params: 121\n",
            "Non-trainable params: 0\n",
            "_________________________________________________________________\n"
          ]
        }
      ]
    },
    {
      "cell_type": "code",
      "source": [
        "# Compile model\n",
        "model.compile(loss= \"mean_squared_error\" , optimizer=\"adam\", metrics=[\"mean_squared_error\"])"
      ],
      "metadata": {
        "id": "kleK6ZXwBAlI"
      },
      "execution_count": null,
      "outputs": []
    },
    {
      "cell_type": "code",
      "source": [
        "model.fit(X_train, Y_train, epochs=100)"
      ],
      "metadata": {
        "colab": {
          "base_uri": "https://localhost:8080/"
        },
        "id": "RZqQzuiDDlRk",
        "outputId": "6672aa8f-72b6-469c-f042-647a5b1d3f1b"
      },
      "execution_count": null,
      "outputs": [
        {
          "output_type": "stream",
          "name": "stdout",
          "text": [
            "Epoch 1/100\n",
            "7601/7601 [==============================] - 11s 1ms/step - loss: 0.0073 - mean_squared_error: 0.0073\n",
            "Epoch 2/100\n",
            "7601/7601 [==============================] - 11s 1ms/step - loss: 0.0029 - mean_squared_error: 0.0029\n",
            "Epoch 3/100\n",
            "7601/7601 [==============================] - 10s 1ms/step - loss: 0.0025 - mean_squared_error: 0.0025\n",
            "Epoch 4/100\n",
            "7601/7601 [==============================] - 10s 1ms/step - loss: 0.0024 - mean_squared_error: 0.0024\n",
            "Epoch 5/100\n",
            "7601/7601 [==============================] - 10s 1ms/step - loss: 0.0023 - mean_squared_error: 0.0023\n",
            "Epoch 6/100\n",
            "7601/7601 [==============================] - 10s 1ms/step - loss: 0.0019 - mean_squared_error: 0.0019\n",
            "Epoch 7/100\n",
            "7601/7601 [==============================] - 11s 1ms/step - loss: 0.0016 - mean_squared_error: 0.0016\n",
            "Epoch 8/100\n",
            "7601/7601 [==============================] - 10s 1ms/step - loss: 0.0014 - mean_squared_error: 0.0014\n",
            "Epoch 9/100\n",
            "7601/7601 [==============================] - 10s 1ms/step - loss: 0.0013 - mean_squared_error: 0.0013\n",
            "Epoch 10/100\n",
            "7601/7601 [==============================] - 10s 1ms/step - loss: 0.0012 - mean_squared_error: 0.0012\n",
            "Epoch 11/100\n",
            "7601/7601 [==============================] - 10s 1ms/step - loss: 0.0011 - mean_squared_error: 0.0011\n",
            "Epoch 12/100\n",
            "7601/7601 [==============================] - 10s 1ms/step - loss: 9.9652e-04 - mean_squared_error: 9.9652e-04\n",
            "Epoch 13/100\n",
            "7601/7601 [==============================] - 10s 1ms/step - loss: 9.0978e-04 - mean_squared_error: 9.0978e-04\n",
            "Epoch 14/100\n",
            "7601/7601 [==============================] - 10s 1ms/step - loss: 8.3338e-04 - mean_squared_error: 8.3338e-04\n",
            "Epoch 15/100\n",
            "7601/7601 [==============================] - 10s 1ms/step - loss: 7.5401e-04 - mean_squared_error: 7.5401e-04\n",
            "Epoch 16/100\n",
            "7601/7601 [==============================] - 10s 1ms/step - loss: 6.6229e-04 - mean_squared_error: 6.6229e-04\n",
            "Epoch 17/100\n",
            "7601/7601 [==============================] - 10s 1ms/step - loss: 6.2301e-04 - mean_squared_error: 6.2301e-04\n",
            "Epoch 18/100\n",
            "7601/7601 [==============================] - 10s 1ms/step - loss: 5.5672e-04 - mean_squared_error: 5.5672e-04\n",
            "Epoch 19/100\n",
            "7601/7601 [==============================] - 11s 1ms/step - loss: 5.1303e-04 - mean_squared_error: 5.1303e-04\n",
            "Epoch 20/100\n",
            "7601/7601 [==============================] - 10s 1ms/step - loss: 4.7629e-04 - mean_squared_error: 4.7629e-04\n",
            "Epoch 21/100\n",
            "7601/7601 [==============================] - 11s 1ms/step - loss: 5.0504e-04 - mean_squared_error: 5.0504e-04\n",
            "Epoch 22/100\n",
            "7601/7601 [==============================] - 10s 1ms/step - loss: 4.2676e-04 - mean_squared_error: 4.2676e-04\n",
            "Epoch 23/100\n",
            "7601/7601 [==============================] - 11s 1ms/step - loss: 3.9599e-04 - mean_squared_error: 3.9599e-04\n",
            "Epoch 24/100\n",
            "7601/7601 [==============================] - 10s 1ms/step - loss: 4.2500e-04 - mean_squared_error: 4.2500e-04\n",
            "Epoch 25/100\n",
            "7601/7601 [==============================] - 11s 1ms/step - loss: 4.1950e-04 - mean_squared_error: 4.1950e-04\n",
            "Epoch 26/100\n",
            "7601/7601 [==============================] - 11s 1ms/step - loss: 4.6865e-04 - mean_squared_error: 4.6865e-04\n",
            "Epoch 27/100\n",
            "7601/7601 [==============================] - 10s 1ms/step - loss: 4.2220e-04 - mean_squared_error: 4.2220e-04\n",
            "Epoch 28/100\n",
            "7601/7601 [==============================] - 10s 1ms/step - loss: 3.6623e-04 - mean_squared_error: 3.6623e-04\n",
            "Epoch 29/100\n",
            "7601/7601 [==============================] - 10s 1ms/step - loss: 3.6639e-04 - mean_squared_error: 3.6639e-04\n",
            "Epoch 30/100\n",
            "7601/7601 [==============================] - 11s 1ms/step - loss: 3.7232e-04 - mean_squared_error: 3.7232e-04\n",
            "Epoch 31/100\n",
            "7601/7601 [==============================] - 11s 1ms/step - loss: 4.7712e-04 - mean_squared_error: 4.7712e-04\n",
            "Epoch 32/100\n",
            "7601/7601 [==============================] - 11s 1ms/step - loss: 6.9969e-04 - mean_squared_error: 6.9969e-04\n",
            "Epoch 33/100\n",
            "7601/7601 [==============================] - 11s 1ms/step - loss: 5.4408e-04 - mean_squared_error: 5.4408e-04\n",
            "Epoch 34/100\n",
            "7601/7601 [==============================] - 11s 1ms/step - loss: 3.4219e-04 - mean_squared_error: 3.4219e-04\n",
            "Epoch 35/100\n",
            "7601/7601 [==============================] - 10s 1ms/step - loss: 4.8896e-04 - mean_squared_error: 4.8896e-04\n",
            "Epoch 36/100\n",
            "7601/7601 [==============================] - 11s 1ms/step - loss: 3.3871e-04 - mean_squared_error: 3.3871e-04\n",
            "Epoch 37/100\n",
            "7601/7601 [==============================] - 11s 1ms/step - loss: 3.7836e-04 - mean_squared_error: 3.7836e-04\n",
            "Epoch 38/100\n",
            "7601/7601 [==============================] - 11s 1ms/step - loss: 3.2649e-04 - mean_squared_error: 3.2649e-04\n",
            "Epoch 39/100\n",
            "7601/7601 [==============================] - 11s 1ms/step - loss: 3.5705e-04 - mean_squared_error: 3.5705e-04\n",
            "Epoch 40/100\n",
            "7601/7601 [==============================] - 11s 1ms/step - loss: 4.0739e-04 - mean_squared_error: 4.0739e-04\n",
            "Epoch 41/100\n",
            "7601/7601 [==============================] - 11s 1ms/step - loss: 3.3980e-04 - mean_squared_error: 3.3980e-04\n",
            "Epoch 42/100\n",
            "7601/7601 [==============================] - 11s 1ms/step - loss: 3.1241e-04 - mean_squared_error: 3.1241e-04\n",
            "Epoch 43/100\n",
            "7601/7601 [==============================] - 11s 1ms/step - loss: 3.3795e-04 - mean_squared_error: 3.3795e-04\n",
            "Epoch 44/100\n",
            "7601/7601 [==============================] - 11s 1ms/step - loss: 3.0653e-04 - mean_squared_error: 3.0653e-04\n",
            "Epoch 45/100\n",
            "7601/7601 [==============================] - 11s 1ms/step - loss: 3.0597e-04 - mean_squared_error: 3.0597e-04\n",
            "Epoch 46/100\n",
            "7601/7601 [==============================] - 11s 1ms/step - loss: 3.2617e-04 - mean_squared_error: 3.2617e-04\n",
            "Epoch 47/100\n",
            "7601/7601 [==============================] - 11s 1ms/step - loss: 3.0717e-04 - mean_squared_error: 3.0717e-04\n",
            "Epoch 48/100\n",
            "7601/7601 [==============================] - 11s 1ms/step - loss: 4.5647e-04 - mean_squared_error: 4.5647e-04\n",
            "Epoch 49/100\n",
            "7601/7601 [==============================] - 11s 1ms/step - loss: 2.8581e-04 - mean_squared_error: 2.8581e-04\n",
            "Epoch 50/100\n",
            "7601/7601 [==============================] - 11s 1ms/step - loss: 2.8440e-04 - mean_squared_error: 2.8440e-04\n",
            "Epoch 51/100\n",
            "7601/7601 [==============================] - 11s 1ms/step - loss: 2.6978e-04 - mean_squared_error: 2.6978e-04\n",
            "Epoch 52/100\n",
            "7601/7601 [==============================] - 11s 1ms/step - loss: 2.7172e-04 - mean_squared_error: 2.7172e-04\n",
            "Epoch 53/100\n",
            "7601/7601 [==============================] - 11s 1ms/step - loss: 2.6747e-04 - mean_squared_error: 2.6747e-04\n",
            "Epoch 54/100\n",
            "7601/7601 [==============================] - 11s 1ms/step - loss: 2.9325e-04 - mean_squared_error: 2.9325e-04\n",
            "Epoch 55/100\n",
            "7601/7601 [==============================] - 11s 1ms/step - loss: 2.4158e-04 - mean_squared_error: 2.4158e-04\n",
            "Epoch 56/100\n",
            "7601/7601 [==============================] - 10s 1ms/step - loss: 2.4474e-04 - mean_squared_error: 2.4474e-04\n",
            "Epoch 57/100\n",
            "7601/7601 [==============================] - 11s 1ms/step - loss: 2.4361e-04 - mean_squared_error: 2.4361e-04\n",
            "Epoch 58/100\n",
            "7601/7601 [==============================] - 10s 1ms/step - loss: 2.4065e-04 - mean_squared_error: 2.4065e-04\n",
            "Epoch 59/100\n",
            "7601/7601 [==============================] - 11s 1ms/step - loss: 2.3830e-04 - mean_squared_error: 2.3830e-04\n",
            "Epoch 60/100\n",
            "7601/7601 [==============================] - 11s 1ms/step - loss: 2.2877e-04 - mean_squared_error: 2.2877e-04\n",
            "Epoch 61/100\n",
            "7601/7601 [==============================] - 11s 1ms/step - loss: 2.4019e-04 - mean_squared_error: 2.4019e-04\n",
            "Epoch 62/100\n",
            "7601/7601 [==============================] - 11s 1ms/step - loss: 2.3293e-04 - mean_squared_error: 2.3293e-04\n",
            "Epoch 63/100\n",
            "7601/7601 [==============================] - 11s 1ms/step - loss: 2.4252e-04 - mean_squared_error: 2.4252e-04\n",
            "Epoch 64/100\n",
            "7601/7601 [==============================] - 11s 1ms/step - loss: 2.1593e-04 - mean_squared_error: 2.1593e-04\n",
            "Epoch 65/100\n",
            "7601/7601 [==============================] - 11s 1ms/step - loss: 2.1936e-04 - mean_squared_error: 2.1936e-04\n",
            "Epoch 66/100\n",
            "7601/7601 [==============================] - 11s 1ms/step - loss: 2.2341e-04 - mean_squared_error: 2.2341e-04\n",
            "Epoch 67/100\n",
            "7601/7601 [==============================] - 10s 1ms/step - loss: 2.3206e-04 - mean_squared_error: 2.3206e-04\n",
            "Epoch 68/100\n",
            "7601/7601 [==============================] - 10s 1ms/step - loss: 2.1363e-04 - mean_squared_error: 2.1363e-04\n",
            "Epoch 69/100\n",
            "7601/7601 [==============================] - 10s 1ms/step - loss: 2.2046e-04 - mean_squared_error: 2.2046e-04\n",
            "Epoch 70/100\n",
            "7601/7601 [==============================] - 10s 1ms/step - loss: 2.1285e-04 - mean_squared_error: 2.1285e-04\n",
            "Epoch 71/100\n",
            "7601/7601 [==============================] - 10s 1ms/step - loss: 2.2776e-04 - mean_squared_error: 2.2776e-04\n",
            "Epoch 72/100\n",
            "7601/7601 [==============================] - 11s 1ms/step - loss: 2.1076e-04 - mean_squared_error: 2.1076e-04\n",
            "Epoch 73/100\n",
            "7601/7601 [==============================] - 10s 1ms/step - loss: 2.0802e-04 - mean_squared_error: 2.0802e-04\n",
            "Epoch 74/100\n",
            "7601/7601 [==============================] - 11s 1ms/step - loss: 0.0015 - mean_squared_error: 0.0015\n",
            "Epoch 75/100\n",
            "7601/7601 [==============================] - 10s 1ms/step - loss: 0.0021 - mean_squared_error: 0.0021\n",
            "Epoch 76/100\n",
            "7601/7601 [==============================] - 11s 1ms/step - loss: 0.0017 - mean_squared_error: 0.0017\n",
            "Epoch 77/100\n",
            "7601/7601 [==============================] - 11s 1ms/step - loss: 0.0015 - mean_squared_error: 0.0015\n",
            "Epoch 78/100\n",
            "7601/7601 [==============================] - 11s 1ms/step - loss: 0.0014 - mean_squared_error: 0.0014\n",
            "Epoch 79/100\n",
            "7601/7601 [==============================] - 11s 1ms/step - loss: 0.0013 - mean_squared_error: 0.0013\n",
            "Epoch 80/100\n",
            "7601/7601 [==============================] - 11s 1ms/step - loss: 0.0012 - mean_squared_error: 0.0012\n",
            "Epoch 81/100\n",
            "7601/7601 [==============================] - 11s 1ms/step - loss: 0.0012 - mean_squared_error: 0.0012\n",
            "Epoch 82/100\n",
            "7601/7601 [==============================] - 11s 1ms/step - loss: 0.0011 - mean_squared_error: 0.0011\n",
            "Epoch 83/100\n",
            "7601/7601 [==============================] - 11s 1ms/step - loss: 0.0011 - mean_squared_error: 0.0011\n",
            "Epoch 84/100\n",
            "7601/7601 [==============================] - 11s 1ms/step - loss: 0.0010 - mean_squared_error: 0.0010\n",
            "Epoch 85/100\n",
            "7601/7601 [==============================] - 11s 1ms/step - loss: 9.9464e-04 - mean_squared_error: 9.9464e-04\n",
            "Epoch 86/100\n",
            "7601/7601 [==============================] - 11s 1ms/step - loss: 9.6757e-04 - mean_squared_error: 9.6757e-04\n",
            "Epoch 87/100\n",
            "7601/7601 [==============================] - 11s 1ms/step - loss: 9.2320e-04 - mean_squared_error: 9.2320e-04\n",
            "Epoch 88/100\n",
            "7601/7601 [==============================] - 11s 1ms/step - loss: 8.9159e-04 - mean_squared_error: 8.9159e-04\n",
            "Epoch 89/100\n",
            "7601/7601 [==============================] - 11s 1ms/step - loss: 8.5923e-04 - mean_squared_error: 8.5923e-04\n",
            "Epoch 90/100\n",
            "7601/7601 [==============================] - 11s 1ms/step - loss: 8.3246e-04 - mean_squared_error: 8.3246e-04\n",
            "Epoch 91/100\n",
            "7601/7601 [==============================] - 11s 1ms/step - loss: 7.9877e-04 - mean_squared_error: 7.9877e-04\n",
            "Epoch 92/100\n",
            "7601/7601 [==============================] - 11s 1ms/step - loss: 7.6633e-04 - mean_squared_error: 7.6633e-04\n",
            "Epoch 93/100\n",
            "7601/7601 [==============================] - 11s 1ms/step - loss: 7.3680e-04 - mean_squared_error: 7.3680e-04\n",
            "Epoch 94/100\n",
            "7601/7601 [==============================] - 11s 1ms/step - loss: 7.1977e-04 - mean_squared_error: 7.1977e-04\n",
            "Epoch 95/100\n",
            "7601/7601 [==============================] - 11s 1ms/step - loss: 6.9238e-04 - mean_squared_error: 6.9238e-04\n",
            "Epoch 96/100\n",
            "7601/7601 [==============================] - 11s 1ms/step - loss: 6.7487e-04 - mean_squared_error: 6.7487e-04\n",
            "Epoch 97/100\n",
            "7601/7601 [==============================] - 11s 1ms/step - loss: 6.4950e-04 - mean_squared_error: 6.4950e-04\n",
            "Epoch 98/100\n",
            "7601/7601 [==============================] - 11s 1ms/step - loss: 6.2775e-04 - mean_squared_error: 6.2775e-04\n",
            "Epoch 99/100\n",
            "7601/7601 [==============================] - 11s 1ms/step - loss: 6.1794e-04 - mean_squared_error: 6.1794e-04\n",
            "Epoch 100/100\n",
            "7601/7601 [==============================] - 11s 1ms/step - loss: 5.9689e-04 - mean_squared_error: 5.9689e-04\n"
          ]
        },
        {
          "output_type": "execute_result",
          "data": {
            "text/plain": [
              "<keras.callbacks.History at 0x7f3b67905350>"
            ]
          },
          "metadata": {},
          "execution_count": 109
        }
      ]
    },
    {
      "cell_type": "markdown",
      "source": [
        "Inference "
      ],
      "metadata": {
        "id": "FK6616-GRDsX"
      }
    },
    {
      "cell_type": "code",
      "source": [
        "from sklearn.metrics import mean_squared_error\n",
        "pred= model.predict(X_test)\n",
        "score = np.sqrt(mean_squared_error(Y_test,pred))\n",
        "print (score)\n"
      ],
      "metadata": {
        "colab": {
          "base_uri": "https://localhost:8080/",
          "height": 219
        },
        "id": "yEdyq-AWDqOo",
        "outputId": "dbd2f2df-bfb2-470a-826c-6ac9c8d57189"
      },
      "execution_count": null,
      "outputs": [
        {
          "output_type": "error",
          "ename": "NameError",
          "evalue": "ignored",
          "traceback": [
            "\u001b[0;31m---------------------------------------------------------------------------\u001b[0m",
            "\u001b[0;31mNameError\u001b[0m                                 Traceback (most recent call last)",
            "\u001b[0;32m<ipython-input-1-286ae8d54640>\u001b[0m in \u001b[0;36m<module>\u001b[0;34m()\u001b[0m\n\u001b[1;32m      1\u001b[0m \u001b[0;32mfrom\u001b[0m \u001b[0msklearn\u001b[0m\u001b[0;34m.\u001b[0m\u001b[0mmetrics\u001b[0m \u001b[0;32mimport\u001b[0m \u001b[0mmean_squared_error\u001b[0m\u001b[0;34m\u001b[0m\u001b[0;34m\u001b[0m\u001b[0m\n\u001b[0;32m----> 2\u001b[0;31m \u001b[0mpred\u001b[0m\u001b[0;34m=\u001b[0m \u001b[0mmodel\u001b[0m\u001b[0;34m.\u001b[0m\u001b[0mpredict\u001b[0m\u001b[0;34m(\u001b[0m\u001b[0mX_test\u001b[0m\u001b[0;34m)\u001b[0m\u001b[0;34m\u001b[0m\u001b[0;34m\u001b[0m\u001b[0m\n\u001b[0m\u001b[1;32m      3\u001b[0m \u001b[0mscore\u001b[0m \u001b[0;34m=\u001b[0m \u001b[0mnp\u001b[0m\u001b[0;34m.\u001b[0m\u001b[0msqrt\u001b[0m\u001b[0;34m(\u001b[0m\u001b[0mmean_squared_error\u001b[0m\u001b[0;34m(\u001b[0m\u001b[0mY_test\u001b[0m\u001b[0;34m,\u001b[0m\u001b[0mpred\u001b[0m\u001b[0;34m)\u001b[0m\u001b[0;34m)\u001b[0m\u001b[0;34m\u001b[0m\u001b[0;34m\u001b[0m\u001b[0m\n\u001b[1;32m      4\u001b[0m \u001b[0mprint\u001b[0m \u001b[0;34m(\u001b[0m\u001b[0mscore\u001b[0m\u001b[0;34m)\u001b[0m\u001b[0;34m\u001b[0m\u001b[0;34m\u001b[0m\u001b[0m\n",
            "\u001b[0;31mNameError\u001b[0m: name 'model' is not defined"
          ]
        }
      ]
    },
    {
      "cell_type": "code",
      "source": [
        "print(pred*Y_max)\n",
        "print(Y_test*Y_max)"
      ],
      "metadata": {
        "id": "W2pj0QEXN_1g",
        "colab": {
          "base_uri": "https://localhost:8080/"
        },
        "outputId": "1c59d394-995b-4bab-ba19-8298e4a85fa7"
      },
      "execution_count": null,
      "outputs": [
        {
          "output_type": "stream",
          "name": "stdout",
          "text": [
            "[[1.24414524e-04]\n",
            " [1.50592823e-04]\n",
            " [9.29471571e-05]\n",
            " ...\n",
            " [1.44157966e-04]\n",
            " [8.49468488e-05]\n",
            " [1.15611125e-04]]\n",
            "               0\n",
            "125271  0.000129\n",
            "218447  0.000147\n",
            "37050   0.000089\n",
            "41650   0.000089\n",
            "249689  0.000181\n",
            "...          ...\n",
            "116533  0.000114\n",
            "168936  0.000133\n",
            "203176  0.000144\n",
            "19572   0.000085\n",
            "115719  0.000114\n",
            "\n",
            "[27025 rows x 1 columns]\n"
          ]
        }
      ]
    },
    {
      "cell_type": "code",
      "source": [
        ""
      ],
      "metadata": {
        "id": "GTv45sDvONIg"
      },
      "execution_count": null,
      "outputs": []
    },
    {
      "cell_type": "markdown",
      "source": [
        "### Random Forest Regressor"
      ],
      "metadata": {
        "id": "zYDUnXaPRLmw"
      }
    },
    {
      "cell_type": "code",
      "source": [
        "from tensorflow.python.ops.gen_array_ops import reshape\n",
        "import random\n",
        "from sklearn.ensemble import RandomForestRegressor\n",
        "random.seed(42)\n",
        "\n",
        "rf = RandomForestRegressor(n_estimators=10)\n",
        "rf.fit(X_train, Y_train.values.ravel())"
      ],
      "metadata": {
        "colab": {
          "base_uri": "https://localhost:8080/"
        },
        "id": "EcmtVcV2RTYi",
        "outputId": "1008ade4-0b3d-41a9-edd3-1dbcf337c4e3"
      },
      "execution_count": null,
      "outputs": [
        {
          "output_type": "execute_result",
          "data": {
            "text/plain": [
              "RandomForestRegressor(n_estimators=10)"
            ]
          },
          "metadata": {},
          "execution_count": 103
        }
      ]
    },
    {
      "cell_type": "code",
      "source": [
        "predrf=rf.predict(X_test)\n",
        "score = np.sqrt(mean_squared_error(Y_test,predrf))\n",
        "print (score)"
      ],
      "metadata": {
        "colab": {
          "base_uri": "https://localhost:8080/"
        },
        "id": "q6F654HqRlK9",
        "outputId": "3780c68d-d15c-4c1c-9ee3-cec49bcae8f1"
      },
      "execution_count": null,
      "outputs": [
        {
          "output_type": "stream",
          "name": "stdout",
          "text": [
            "0.001392439507216631\n"
          ]
        }
      ]
    },
    {
      "cell_type": "code",
      "source": [
        ""
      ],
      "metadata": {
        "id": "UqPctaqqSM5M"
      },
      "execution_count": null,
      "outputs": []
    }
  ]
}